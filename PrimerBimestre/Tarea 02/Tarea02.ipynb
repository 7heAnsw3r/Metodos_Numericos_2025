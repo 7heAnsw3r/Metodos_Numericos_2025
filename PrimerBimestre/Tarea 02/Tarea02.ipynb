{
 "cells": [
  {
   "metadata": {},
   "cell_type": "markdown",
   "source": [
    "# Tare 02\n",
    "\n",
    "Tomar una constante de PYTHON, realizar truncamiento y redondeo a 4 cifras significativas, obtener los resultados de los 4 errores."
   ],
   "id": "133d2af217894179"
  },
  {
   "metadata": {
    "ExecuteTime": {
     "end_time": "2025-05-04T18:35:45.748631Z",
     "start_time": "2025-05-04T18:35:45.741358Z"
    }
   },
   "cell_type": "code",
   "source": [
    "import math\n",
    "pi = math.pi\n",
    "# Primero Truncamos pi\n",
    "pi_trunc = float(str(pi)[:5])\n",
    "\n",
    "# Calculamos los diferentes tipos de errores\n",
    "erro_real = pi - pi_trunc\n",
    "print(\"Error real: \", erro_real)\n",
    "error_absoluto = abs(pi - pi_trunc)\n",
    "print(\"Error absoluto: \", error_absoluto)\n",
    "error_relativo = abs(error_absoluto / pi)\n",
    "print(\"Error relativo: \", error_relativo)\n",
    "error_porcentual = error_relativo * 100"
   ],
   "id": "68de5596d9be17e",
   "outputs": [
    {
     "name": "stdout",
     "output_type": "stream",
     "text": [
      "Error real:  0.0005926535897931018\n",
      "Error absoluto:  0.0005926535897931018\n",
      "Error relativo:  0.00018864749671345722\n"
     ]
    }
   ],
   "execution_count": 8
  },
  {
   "metadata": {
    "ExecuteTime": {
     "end_time": "2025-05-04T18:35:42.400748Z",
     "start_time": "2025-05-04T18:35:42.393671Z"
    }
   },
   "cell_type": "code",
   "source": [
    "pi_redondeado = 3.142\n",
    "# Calculamos los diferentes tipos de errores\n",
    "erro_real_redondeado = pi - pi_redondeado\n",
    "print(\"Error real redondeado: \", erro_real_redondeado)\n",
    "error_absoluto_redondeado = abs(pi - pi_redondeado)\n",
    "print(\"Error absoluto redondeado: \", error_absoluto_redondeado)\n",
    "error_relativo_redondeado = abs(error_absoluto_redondeado / pi)\n",
    "print(\"Error relativo redondeado: \", error_relativo_redondeado)\n",
    "error_porcentual_redondeado = error_relativo_redondeado * 100"
   ],
   "id": "ac22c1ba7347b9a1",
   "outputs": [
    {
     "name": "stdout",
     "output_type": "stream",
     "text": [
      "Error real redondeado:  -0.0004073464102067881\n",
      "Error absoluto redondeado:  0.0004073464102067881\n",
      "Error relativo redondeado:  0.0001296623894702984\n"
     ]
    }
   ],
   "execution_count": 7
  }
 ],
 "metadata": {
  "kernelspec": {
   "display_name": "Python 3",
   "language": "python",
   "name": "python3"
  },
  "language_info": {
   "codemirror_mode": {
    "name": "ipython",
    "version": 2
   },
   "file_extension": ".py",
   "mimetype": "text/x-python",
   "name": "python",
   "nbconvert_exporter": "python",
   "pygments_lexer": "ipython2",
   "version": "2.7.6"
  }
 },
 "nbformat": 4,
 "nbformat_minor": 5
}

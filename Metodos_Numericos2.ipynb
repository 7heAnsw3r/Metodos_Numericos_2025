{
 "cells": [
  {
   "metadata": {},
   "cell_type": "markdown",
   "source": [
    "# Metodos Numericos Segundo Bimestre Notebook\n",
    "\n",
    "Nombre: Anthony Alexander Contreras Carrión\n",
    "\n",
    "Materia: Metodos Numericos\n",
    "\n",
    "Fecha: 22-07-2025\n",
    "\n",
    "## Contenido del Notebook\n",
    "\n",
    "En esta version del notebook trataremos los temas que se ha visto durante el segundo bimestre de la materia de Metodos Numericos, como son:\n",
    "\n",
    "## 📚 **Índice de Contenidos**\n",
    "\n",
    "### 🔢 Resolución de Sistemas de Ecuaciones a través de matrices pon un emoji de algo con matemáticas\n",
    "\n",
    "   - Eliminación Gaussiana\n",
    "   - Gauss-Jordan\n",
    "   - Descomposición LU, método matriz inversa\n",
    "   - Descomposición LU, producto de matrices\n",
    "   - Descomposición LU: Doolittle\n",
    "   - Descomposición LU: Crout\n",
    "   - Descomposición LU: Cholesky\n",
    "   - Gauss-Jacobi\n",
    "   - Gauss-Seidel\n",
    "   - Método de Euler\n",
    "   - Método de Euler mejorado\n",
    "   - Método de Taylor de mayor orden\n",
    "   - Método de Runge Kutta\n",
    "\n",
    "### 📘 Cómo funciona este notebook\n",
    "Para resolver las distintas tipos de ecuaciones mediante matrices, no se utilizarán librerías de Python como Numpy o Scipy 🐍, ya que se busca entender el funcionamiento de los métodos y no simplemente utilizarlos.  🔢 En la mayoría de los casos, se busca encontrar la solución para x y z. No obstante, en los métodos de LU se busca encontrar la matriz L y U, que son las matrices triangulares inferiores y superiores respectivamente. Además, se calculan y₁, y₂, y₃, que son las soluciones parciales del sistema, y x₁, x₂, x₃, que son las soluciones finales del sistema.\n",
    "\n",
    "Cuando se hace referenica a la matriz A es la matriz de coeficientes del sistema de ecuaciones, y b es el vector de términos independientes.\n"
   ],
   "id": "42ce9b049b133064"
  },
  {
   "metadata": {},
   "cell_type": "markdown",
   "source": [
    "# Eliminación Gaussiana\n",
    "En este método se busca transformar el sistema de ecuaciones en una forma escalonada, eliminando las incógnitas de las ecuaciones inferiores.\n",
    "\n",
    "Vamos a utilizar el siguiente sistema de ecuaciones como ejemplo:\n",
    "\n",
    "$$\n",
    "\\begin{aligned}\n",
    "2x + 3/5y + z &= 18 \\\\\n",
    "4x + y + 2z &= 20 \\\\\n",
    "3x + 2y + 4z &= -4\n",
    "\\end{aligned}\n",
    "$$"
   ],
   "id": "ddaa32578d0e388d"
  },
  {
   "metadata": {
    "ExecuteTime": {
     "end_time": "2025-07-13T22:49:32.551304Z",
     "start_time": "2025-07-13T22:49:32.545226Z"
    }
   },
   "cell_type": "code",
   "source": [
    "def eliminacion_gaussiana(A, b):\n",
    "    \"\"\"\n",
    "    Resolver un sistema de ecuaciones lineales Ax = b utilizando eliminación Gaussiana.\n",
    "    :param A: Matriz de coeficientes.\n",
    "    :param b: Vector de términos independientes.\n",
    "    :return: Vector solución x.\n",
    "    \"\"\"\n",
    "    n = len(b)\n",
    "    for i in range(n):\n",
    "        if A[i][i] == 0:\n",
    "            for j in range(i + 1, n):\n",
    "                if A[j][i] != 0:\n",
    "                    # Intercambiar filas si el pivote es cero\n",
    "                    A[i], A[j] = A[j], A[i]\n",
    "                    b[i], b[j] = b[j], b[i]\n",
    "                    break\n",
    "                else:\n",
    "                    print(f\"La variable x no participa directamente en la ecuacion, por lo tanto no se puede resolver el sistema de ecuaciones.\")\n",
    "        for j in range(i + 1, n):\n",
    "            if A[j][i] != 0:  # Si elemento abajo del pivote es cero no lo tomamos en cuenta\n",
    "                factor = A[j][i] / A[i][i]\n",
    "                for k in range(i, n):\n",
    "                    # Se multiplica por toda la fila, por eso el único elemento que cambia es k.\n",
    "                    A[j][k] -= factor * A[i][k]\n",
    "                b[j] -= factor * b[i]\n",
    "\n",
    "    x = [0] * n\n",
    "    for i in range(n - 1, -1, -1):\n",
    "        x[i] = (b[i] - sum(A[i][j] * x[j] for j in range(i + 1, n))) / A[i][i]\n",
    "    return x\n",
    "\n",
    "A = [[2, 3/5, 1],[4, 1, 2],[3, 2, 4]]\n",
    "b = [18, 20, -4]\n",
    "\n",
    "solucion = eliminacion_gaussiana(A,b)\n",
    "print(f\"Soluciones: x₁ = {solucion[0]:.2f}, x₂ = {solucion[1]:.2f}, x₃ = {solucion[2]:.2f}\")\n"
   ],
   "id": "46c4053900255bd8",
   "outputs": [
    {
     "name": "stdout",
     "output_type": "stream",
     "text": [
      "Soluciones: x₁ = 8.80, x₂ = 80.00, x₃ = -47.60\n"
     ]
    }
   ],
   "execution_count": 83
  },
  {
   "metadata": {},
   "cell_type": "markdown",
   "source": [
    "# Gauss-Jordan\n",
    "En este método se busca transformar el sistema de ecuaciones en una forma reducida, eliminando las incógnitas de todas las ecuaciones.\n",
    "Para este ejemplo tomaremos como base el mismo sistema de ecuaciones y el codigo que teniamos vamos a modificarlo para que se ajuste a este metodo."
   ],
   "id": "cc5572547e22c534"
  },
  {
   "metadata": {
    "ExecuteTime": {
     "end_time": "2025-07-13T22:49:32.574842Z",
     "start_time": "2025-07-13T22:49:32.567655Z"
    }
   },
   "cell_type": "code",
   "source": [
    "def gauss_jordan(A, b):\n",
    "    \"\"\"\n",
    "    Resolver un sistema de ecuaciones lineales Ax = b utilizando el método de Gauss-Jordan.\n",
    "    :param A: Matriz de coeficientes.\n",
    "    :param b: Vector de términos independientes.\n",
    "    :return: Vector de soluciones x.\n",
    "    \"\"\"\n",
    "    n = len(b)\n",
    "    # Codigo Reutilizado\n",
    "    for i in range(n):\n",
    "        if A[i][i] == 0:\n",
    "            for j in range(i + 1, n):\n",
    "                if A[j][i] != 0:\n",
    "                    # Intercambiar filas si el pivote es cero\n",
    "                    A[i], A[j] = A[j], A[i]\n",
    "                    b[i], b[j] = b[j], b[i]\n",
    "                    break\n",
    "                else:\n",
    "                    print(f\"La variable x no participa directamente en la ecuacion, por lo tanto no se puede resolver el sistema de ecuaciones.\")\n",
    "        for j in range(i + 1, n):\n",
    "            if A[j][i] != 0:\n",
    "                factor = A[j][i] / A[i][i]\n",
    "                for k in range(i, n):\n",
    "                    A[j][k] -= factor * A[i][k]\n",
    "                b[j] -= factor * b[i]\n",
    "\n",
    "    # Eliminación hacia atrás (Jordan)\n",
    "    for a in range(n - 1, -1, -1):\n",
    "        for c in range(a - 1, -1, -1):\n",
    "            if A[c][a] != 0:\n",
    "                factor = A[c][a] / A[a][a]\n",
    "                for k in range(a, n):\n",
    "                    A[c][k] -= factor * A[a][k]\n",
    "                b[c] -= factor * b[a]\n",
    "\n",
    "    # Normalizar diagonal\n",
    "    for x in range(n):\n",
    "        if A[x][x] == 0.0 and b[x] != 0.0:\n",
    "                raise ValueError(\"El sistema no tiene soluciones únicas.\")\n",
    "        else:\n",
    "            b[x] /= A[x][x]\n",
    "            A[x][x] = 1  # Normalizar explícito, opcional\n",
    "    return b\n",
    "\n",
    "\n",
    "A = [[2, 3/5, 1],[4, 1, 2],[3, 2, 4]]\n",
    "b = [18, 20, -4]\n",
    "\n",
    "solucion = gauss_jordan(A, b)\n",
    "print(f\"Soluciones: x₁ = {solucion[0]:.2f}, x₂ = {solucion[1]:.2f}, x₃ = {solucion[2]:.2f}\")\n"
   ],
   "id": "e5052eba970505bf",
   "outputs": [
    {
     "name": "stdout",
     "output_type": "stream",
     "text": [
      "Soluciones: x₁ = 8.80, x₂ = 80.00, x₃ = -47.60\n"
     ]
    }
   ],
   "execution_count": 84
  },
  {
   "metadata": {},
   "cell_type": "markdown",
   "source": [
    "# Método matriz inversa\n",
    "\n",
    "En este metodo se busca en contrar la matiz inversa de A y luego multiplicar la matriz inversa por el vector b para obtener el vector solución x.\n",
    "Vamos a tomar el mismo sistema de ecuaciones que hemos estado utilizando como ejemplo.\n"
   ],
   "id": "1be563253a61184e"
  },
  {
   "metadata": {
    "ExecuteTime": {
     "end_time": "2025-07-13T22:49:32.586829Z",
     "start_time": "2025-07-13T22:49:32.579303Z"
    }
   },
   "cell_type": "code",
   "source": [
    "def matriz_inversa(A):\n",
    "    \"\"\"\n",
    "    Calcular la matriz inversa de A utilizando el método de Gauss-Jordan.\n",
    "    :param A: matriz cuadrada.\n",
    "    :return: matriz inversa de A.\n",
    "    \"\"\"\n",
    "    n = len(A)\n",
    "    I = [[1 if i == j else 0 for j in range(n)] for i in range(n)]\n",
    "    for i in range(n):\n",
    "        A[i] += I[i]  # Combinar A | I\n",
    "\n",
    "    for i in range(n):\n",
    "        if A[i][i] == 0:\n",
    "            for j in range(i + 1, n):\n",
    "                if A[j][i] != 0:\n",
    "                    A[i], A[j] = A[j], A[i]\n",
    "                    break\n",
    "            else:\n",
    "                raise ValueError(\"La matriz es singular y no tiene inversa.\")\n",
    "\n",
    "        # Eliminación hacia adelante\n",
    "        for j in range(i + 1, n):\n",
    "            if A[j][i] != 0:\n",
    "                factor = A[j][i] / A[i][i]\n",
    "                for k in range(i, 2 * n):\n",
    "                    A[j][k] -= factor * A[i][k]\n",
    "\n",
    "    # Eliminación hacia atrás\n",
    "    for a in range(n - 1, -1, -1):\n",
    "        for c in range(a - 1, -1, -1):\n",
    "            if A[c][a] != 0:\n",
    "                factor = A[c][a] / A[a][a]\n",
    "                for k in range(a, 2 * n):\n",
    "                    A[c][k] -= factor * A[a][k]\n",
    "\n",
    "    # Normalizar diagonal\n",
    "    for i in range(n):\n",
    "        factor = A[i][i]\n",
    "        if factor == 0:\n",
    "            raise ValueError(\"La matriz es singular y no tiene inversa.\")\n",
    "        for k in range(i, 2 * n):\n",
    "            A[i][k] /= factor\n",
    "\n",
    "    # Extraer inversa\n",
    "    inv_A = [row[n:] for row in A]\n",
    "    return inv_A\n",
    "\n",
    "def multiplicacion_matrices(A, b):\n",
    "    \"\"\"\n",
    "    Multiplicar la matriz inversa por el vector b para obtener el vector solución x.\n",
    "    :return: Vector solución x.\n",
    "    \"\"\"\n",
    "    longitud =len(b) # En estos casos estoy suponiendo que todas las matrices deben ser cuadradas\n",
    "    inv_A = matriz_inversa(A)\n",
    "    x = [sum(inv_A[i][j] * b[j] for j in range(longitud)) for i in range(longitud)]\n",
    "    return x\n",
    "\n",
    "A = [[2, 3/5, 1],[4, 1, 2],[3, 2, 4]]\n",
    "b = [18, 20, -4]\n",
    "\n",
    "solucion = multiplicacion_matrices(A, b)\n",
    "print(f\"Soluciones: x₁ = {solucion[0]:.2f}, x₂ = {solucion[1]:.2f}, x₃ = {solucion[2]:.2f}\")"
   ],
   "id": "3d272dfa230fd92a",
   "outputs": [
    {
     "name": "stdout",
     "output_type": "stream",
     "text": [
      "Soluciones: x₁ = 8.80, x₂ = 80.00, x₃ = -47.60\n"
     ]
    }
   ],
   "execution_count": 85
  },
  {
   "metadata": {},
   "cell_type": "markdown",
   "source": [
    "# Descomposición LU, producto de matrices\n",
    "## Descomposición LU: Doolittle\n",
    "\n",
    "La descomposición LU es un método que descompone una matriz A en el producto de dos matrices: L (triangular inferior) donde la diagonal es 1  y U (triangular superior). Este método es útil para resolver sistemas de ecuaciones lineales. Basado en la primera parte vamos a calcular la matriz L y U, y luego resolver el sistema de ecuaciones Ax = b utilizando la descomposición LU basado en el método de Doolittle."
   ],
   "id": "4eca0f018ca9a84e"
  },
  {
   "metadata": {
    "ExecuteTime": {
     "end_time": "2025-07-13T22:49:32.600373Z",
     "start_time": "2025-07-13T22:49:32.593033Z"
    }
   },
   "cell_type": "code",
   "source": [
    "def descomposicion_LU(A):\n",
    "    \"\"\"\n",
    "    Descomponer la matriz A en el producto de L y U.\n",
    "    :param A: Matriz cuadrada.\n",
    "    :return: Matrices L y U.\n",
    "    \"\"\"\n",
    "    n = len(A)\n",
    "    L = [[0] * n for _ in range(n)]\n",
    "    U = [[0] * n for _ in range(n)]\n",
    "\n",
    "    for i in range(n):\n",
    "        # L es triangular inferior\n",
    "        if A[i][i] == 0:\n",
    "            print(\"La matriz es singular y no se puede descomponer en LU.\")\n",
    "            break\n",
    "        L[i][i] = 1  # Diagonal de L es 1\n",
    "        for j in range(i + 1, n):\n",
    "            if A[j][i] != 0:\n",
    "                L[j][i] = A[j][i] / A[i][i]\n",
    "            for k in range(i + 1, n):\n",
    "                A[j][k] -= L[j][i] * A[i][k]\n",
    "\n",
    "        # U es triangular superior\n",
    "        for j in range(i, n):\n",
    "            U[i][j] = A[i][j]\n",
    "\n",
    "    return L, U\n",
    "\n",
    "def descomposicion_LU_producto(L,U) -> A:\n",
    "    \"\"\"\n",
    "    Vamos a calcular la matriz con el producto de las matrices L y U\n",
    "    :param L: Matriz diagonal inferior con 1 en la diagonal.\n",
    "    :param U: Matriz diagonal superior\n",
    "    :return:\n",
    "    \"\"\"\n",
    "    n = len(L)\n",
    "    A = [[0] * n for _ in range(n)]\n",
    "\n",
    "    for i in range(n):\n",
    "        for j in range(n):\n",
    "            A[i][j] = sum(L[i][k] * U[k][j] for k in range(n))\n",
    "\n",
    "    return A\n",
    "\n",
    "\n",
    "def solucion(A, b):\n",
    "    \"\"\"\n",
    "    Resolver Ax = b usando LU: primero Ly = b , luego Ux = y .\n",
    "    :param A: Matriz de coeficientes.\n",
    "    :param b: Vector de términos independientes.\n",
    "    :return: Vector solución x.\n",
    "    \"\"\"\n",
    "    n = len(b)\n",
    "    L, U = descomposicion_LU(A)\n",
    "\n",
    "    y = [0] * n\n",
    "    x = [0] * n\n",
    "\n",
    "\n",
    "    for i in range(n):\n",
    "        y[i] = (b[i] - sum(L[i][j] * y[j] for j in range(i))) / L[i][i]\n",
    "\n",
    "\n",
    "    for i in range(n - 1, -1, -1):\n",
    "        x[i] = (y[i] - sum(U[i][j] * x[j] for j in range(i + 1, n))) / U[i][i]\n",
    "\n",
    "    return x\n",
    "\n",
    "\n",
    "A = [[2, 3/5, 1],[4, 1, 2],[3, 2, 4]]\n",
    "b = [18, 20, -4]\n",
    "# Multiplicar LU para obtener A\n",
    "L, U = descomposicion_LU(A)\n",
    "A = descomposicion_LU_producto(L,U)\n",
    "print(f\"Matriz A (producto de L y U):{A}\")\n",
    "\n",
    "# Metodo de Doolittle\n",
    "matriz = solucion(A,b)\n",
    "\n",
    "print(f\"Soluciones: x₁ = {matriz[0]:.2f}, x₂ = {matriz[1]:.2f}, x₃ = {matriz[2]:.2f}\")\n"
   ],
   "id": "216bb576bb85e635",
   "outputs": [
    {
     "name": "stdout",
     "output_type": "stream",
     "text": [
      "Matriz A (producto de L y U):[[2, 0.6, 1.0], [4.0, 1.0, 2.0], [3.0, 2.0, 4.0]]\n",
      "Soluciones: x₁ = 8.80, x₂ = 80.00, x₃ = -47.60\n"
     ]
    }
   ],
   "execution_count": 86
  },
  {
   "metadata": {},
   "cell_type": "markdown",
   "source": [
    "# Descomposición LU: Crout y Cholesky\n",
    "\n",
    "Ahora vamos a ver como descomponer A en L y U utilizando los metodos de Crout y Cholesky, que son dos metodos de descomposicion LU."
   ],
   "id": "bb119499783dd998"
  },
  {
   "metadata": {
    "ExecuteTime": {
     "end_time": "2025-07-13T22:49:32.612990Z",
     "start_time": "2025-07-13T22:49:32.606990Z"
    }
   },
   "cell_type": "code",
   "source": [
    "# Crout\n",
    "\n",
    "def descomposicion_LU_crout(A):\n",
    "    n = len(A)\n",
    "    A = [row[:] for row in A] # Copeamos la matriz para demostrar que se puede descomponer\n",
    "    L = [[0] * n for _ in range(n)]\n",
    "    U = [[0] * n for _ in range(n)]\n",
    "\n",
    "    for i in range(n):\n",
    "        U[i][i] = 1  # Diagonal de U en Crout es 1\n",
    "        for j in range(i, n):  # L\n",
    "            L[j][i] = A[j][i] - sum(L[j][k] * U[k][i] for k in range(i))\n",
    "        for j in range(i + 1, n):  # U\n",
    "            if L[i][i] == 0:\n",
    "                raise ValueError(\"La matriz es singular.\")\n",
    "            U[i][j] = (A[i][j] - sum(L[i][k] * U[k][j] for k in range(i))) / L[i][i]\n",
    "\n",
    "    return L, U\n",
    "\n",
    "A = [[2, 3/5, 1],[4, 1, 2],[3, 2, 4]]\n",
    "b = [18, 20, -4]\n",
    "# Multiplicar LU para obtener A\n",
    "L, U = descomposicion_LU_crout(A)\n",
    "A = descomposicion_LU_producto(L,U)\n",
    "print(f\"Matriz A (producto de L y U):{A}\")"
   ],
   "id": "e12f64dbe09fc5a3",
   "outputs": [
    {
     "name": "stdout",
     "output_type": "stream",
     "text": [
      "Matriz A (producto de L y U):[[2, 0.6, 1.0], [4.0, 1.0, 2.0], [3.0, 2.0, 4.0]]\n"
     ]
    }
   ],
   "execution_count": 87
  },
  {
   "metadata": {},
   "cell_type": "markdown",
   "source": "Para la resolucion de Cholesky la matriz A debe ser simetrica y definida positiva.",
   "id": "8b9aac04706d5402"
  },
  {
   "metadata": {
    "ExecuteTime": {
     "end_time": "2025-07-13T22:49:32.634215Z",
     "start_time": "2025-07-13T22:49:32.628199Z"
    }
   },
   "cell_type": "code",
   "source": [
    "# Cholesky\n",
    "\n",
    "def descomposicion_cholesky(A):\n",
    "    n = len(A)\n",
    "    A = [row[:] for row in A]\n",
    "    L = [[0] * n for _ in range(n)]\n",
    "\n",
    "    for i in range(n):\n",
    "        for j in range(i + 1):\n",
    "            suma = sum(L[i][k] * L[j][k] for k in range(j))\n",
    "            if i == j:\n",
    "                valor = A[i][i] - suma # Condicion de Diagonal\n",
    "                if valor <= 0:\n",
    "                    raise ValueError(\"La matriz no es definida positiva.\")\n",
    "                L[i][j] = valor ** 0.5\n",
    "            else:\n",
    "                L[i][j] = (A[i][j] - suma) / L[j][j]\n",
    "    return L\n",
    "\n",
    "def solucion_cholesky(A, b):\n",
    "    \"\"\"\n",
    "    Resuelve Ax = b usando Cholesky.\n",
    "    \"\"\"\n",
    "    n = len(b)\n",
    "    L = descomposicion_cholesky(A)\n",
    "    x = [0] * n\n",
    "    y = [0] * n\n",
    "\n",
    "    # L y = b\n",
    "    for i in range(n):\n",
    "        y[i] = (b[i] - sum(L[i][j] * y[j] for j in range(i))) / L[i][i]\n",
    "\n",
    "    # Lᵗ x = y\n",
    "    for i in range(n - 1, -1, -1):\n",
    "        x[i] = (y[i] - sum(L[j][i] * x[j] for j in range(i + 1, n))) / L[i][i]\n",
    "\n",
    "    return x\n",
    "\n",
    "\n",
    "A = [[2, 3/5, 1],[1, 2, 0],[1, 2, 4]] # valores para que funcione cholesky\n",
    "b= [18, 20, -4]\n",
    "x = solucion_cholesky(A, b)\n",
    "print(f\"Soluciones: x₁ = {x[0]:.2f}, x₂ = {x[1]:.2f}, x₃ = {x[2]:.2f}\")\n"
   ],
   "id": "788262a94acbfcb",
   "outputs": [
    {
     "name": "stdout",
     "output_type": "stream",
     "text": [
      "Soluciones: x₁ = 5.33, x₂ = 19.33, x₃ = -12.00\n"
     ]
    }
   ],
   "execution_count": 88
  },
  {
   "metadata": {},
   "cell_type": "markdown",
   "source": [
    "# Gauss-Jacobi y Gauss-Seidel\n",
    "\n",
    "Ambos metodos son metodos iterativos en los cuales se tiene que dar una buena incializacion para que converjan a la solucion del sistema de ecuaciones, es muy similar a los temas que hemos visto el primer bimestre donde teniamoos varios criterios de parada como el numero de iteraciones, tolerancia, etc.\n"
   ],
   "id": "73f9d02c1045d9a7"
  },
  {
   "metadata": {
    "ExecuteTime": {
     "end_time": "2025-07-13T23:13:25.326602Z",
     "start_time": "2025-07-13T23:13:25.319870Z"
    }
   },
   "cell_type": "code",
   "source": [
    "#Gauss-Jacobi\n",
    "def gauss_jacobi(A, b, X0=None, tol=1e-4, N=100):\n",
    "    \"\"\"\n",
    "    Resuelve Ax = b usando Gauss-Jacobi.\n",
    "    :param A: matriz de coeficientes (n x n)\n",
    "    :param b: vector de términos independientes\n",
    "    :param X0: vector inicial de aproximación (si no se da, se asume ceros)\n",
    "    :param tol: tolerancia de error\n",
    "    :param N: máximo número de iteraciones\n",
    "    :return: vector solución aproximada x\n",
    "    \"\"\"\n",
    "    n = len(b)\n",
    "    x = X0 if X0 else [0.0 for _ in range(n)]\n",
    "\n",
    "    for k in range(1, N + 1):\n",
    "        x_new = x.copy()\n",
    "        for i in range(n):\n",
    "            suma = sum(A[i][j] * x[j] for j in range(n) if j != i)\n",
    "            x_new[i] = (b[i] - suma) / A[i][i]\n",
    "\n",
    "        diff = [abs(x_new[i] - x[i]) for i in range(n)]\n",
    "        if max(diff) < tol:\n",
    "            return x_new\n",
    "\n",
    "        x = x_new\n",
    "\n",
    "    raise ValueError(\"Número máximo de iteraciones excedido. No converge.\")\n",
    "\n",
    "A = [[2, 3/5, 1],[4, 5, 2],[3, 2, 8]]\n",
    "b = [18, 20, -4]\n",
    "x0 = [0, 0, 0]  # Aproximación inicial\n",
    "solucion = gauss_jacobi(A, b, X0=x0)\n",
    "print(f\"Soluciones Gauss-Jacobi: x₁ = {solucion[0]:.2f}, x₂ = {solucion[1]:.2f}, x₃ = {solucion[2]:.2f}\")"
   ],
   "id": "d6ec1397a4a6f573",
   "outputs": [
    {
     "name": "stdout",
     "output_type": "stream",
     "text": [
      "Soluciones Gauss-Jacobi: x₁ = 12.29, x₂ = -4.21, x₃ = -4.06\n"
     ]
    }
   ],
   "execution_count": 110
  },
  {
   "metadata": {},
   "cell_type": "markdown",
   "source": "Para resolver con Gauss-Seidel, se necesitan calcular los valores instantaneos y con esos se trabajan",
   "id": "f5e1a6e199e74776"
  },
  {
   "metadata": {
    "ExecuteTime": {
     "end_time": "2025-07-13T23:16:02.526314Z",
     "start_time": "2025-07-13T23:16:02.520875Z"
    }
   },
   "cell_type": "code",
   "source": [
    "# Gauss-Seidel\n",
    "\n",
    "def gauss_seidel(A, b, X0=None, tol=1e-6, N=100):\n",
    "    \"\"\"\n",
    "    Resuelve Ax = b usando el método iterativo de Gauss-Seidel.\n",
    "\n",
    "    :param A: matriz de coeficientes (n x n)\n",
    "    :param b: vector de términos independientes\n",
    "    :param X0: vector inicial de aproximación (si no se da, se asume ceros)\n",
    "    :param tol: tolerancia de error\n",
    "    :param N: número máximo de iteraciones\n",
    "    :return: vector solución aproximada x\n",
    "    \"\"\"\n",
    "    n = len(b)\n",
    "    x = X0 if X0 else [0.0 for _ in range(n)]\n",
    "\n",
    "    for k in range(1, N + 1):\n",
    "        x_new = x.copy()\n",
    "        for i in range(n):\n",
    "            suma1 = sum(A[i][j] * x_new[j] for j in range(i))\n",
    "            suma2 = sum(A[i][j] * x[j] for j in range(i + 1, n))\n",
    "            x_new[i] = (b[i] - suma1 - suma2) / A[i][i]\n",
    "\n",
    "        # Verificar tolerancia\n",
    "        diff = [abs(x_new[i] - x[i]) for i in range(n)]\n",
    "        if max(diff) < tol:\n",
    "            return x_new\n",
    "\n",
    "        x = x_new\n",
    "\n",
    "    raise ValueError(\"Número máximo de iteraciones excedido. No converge.\")\n",
    "\n",
    "A = [[2, 3/5, 1],[4, 5, 2],[3, 2, 8]]\n",
    "b = [18, 20, -4]\n",
    "x0 = [0, 0, 0]  # Aproximación inicial\n",
    "solucion = gauss_seidel(A, b, X0=x0)\n",
    "print(f\"Soluciones Gauss-Seidel: x₁ = {solucion[0]:.2f}, x₂ = {solucion[1]:.2f}, x₃ = {solucion[2]:.2f}\")\n"
   ],
   "id": "9c5e54fd7a341dc6",
   "outputs": [
    {
     "name": "stdout",
     "output_type": "stream",
     "text": [
      "Soluciones Gauss-Seidel: x₁ = 12.29, x₂ = -4.21, x₃ = -4.06\n"
     ]
    }
   ],
   "execution_count": 111
  },
  {
   "metadata": {},
   "cell_type": "markdown",
   "source": "# Metodo de Euler\n",
   "id": "d1b5d8f0eeee44cf"
  },
  {
   "metadata": {
    "ExecuteTime": {
     "end_time": "2025-07-20T20:51:10.434256Z",
     "start_time": "2025-07-20T20:51:10.340282Z"
    }
   },
   "cell_type": "code",
   "source": [
    "import matplotlib.pyplot as plt\n",
    "\n",
    "def f(x, y):\n",
    "    return -2 * x * y\n",
    "\n",
    "def f_prime(x, y):\n",
    "    return -2 * y - 2 * x * f(x, y)\n",
    "\n",
    "def f_double_prime(x, y):\n",
    "    return -2 * f(x, y) - 2 * x * f_prime(x, y)\n",
    "\n",
    "def f_triple_prime(x, y):\n",
    "    return -2 * f_prime(x, y) - 2 * x * f_double_prime(x, y)\n",
    "\n",
    "# Metodo de Euler\n",
    "def euler_method(x0, y0, xf, h):\n",
    "    \"\"\"\n",
    "    x0, y0: Condiciones iniciales\n",
    "    xf: Valor final de x\n",
    "    h: Tamaño del paso\n",
    "    Retorna listas con valores de x y y\n",
    "    \"\"\"\n",
    "    x_values = [x0]\n",
    "    y_values = [y0]\n",
    "    x = x0\n",
    "    y = y0\n",
    "\n",
    "    while x < xf:\n",
    "        y = y + h * f(x, y)\n",
    "        x = x + h\n",
    "        x_values.append(x)\n",
    "        y_values.append(y)\n",
    "\n",
    "    return x_values, y_values\n",
    "\n",
    "\n",
    "x0 = 0\n",
    "y0 = 1\n",
    "xf = 1\n",
    "h = 0.1\n",
    "x_euler, y_euler = euler_method(x0, y0, xf, h)\n",
    "print(f\"Solución de Euler: y({xf}) = {y_euler[-1]:.4f}\")\n",
    "plt.plot(x_euler, y_euler, marker='o', label=\"Método de Euler\")\n",
    "plt.title(\"Solución de EDO usando el Método de Euler\")\n",
    "plt.xlabel(\"x\")\n",
    "plt.ylabel(\"y\")\n",
    "plt.grid(True)\n",
    "plt.legend()\n",
    "plt.show()\n"
   ],
   "id": "a89f95174476eeb3",
   "outputs": [
    {
     "name": "stdout",
     "output_type": "stream",
     "text": [
      "Solución de Euler: y(1) = 0.3054\n"
     ]
    },
    {
     "data": {
      "text/plain": [
       "<Figure size 640x480 with 1 Axes>"
      ],
      "image/png": "[encoded data removed]"
     },
     "metadata": {},
     "output_type": "display_data"
    }
   ],
   "execution_count": 6
  },
  {
   "metadata": {},
   "cell_type": "markdown",
   "source": "# Metodo de Euler Mejorado",
   "id": "218f76162e4c4b03"
  },
  {
   "metadata": {
    "ExecuteTime": {
     "end_time": "2025-07-20T20:51:13.184310Z",
     "start_time": "2025-07-20T20:51:13.086010Z"
    }
   },
   "cell_type": "code",
   "source": [
    "# Método de Euler Mejorado (Heun)\n",
    "def euler_mejorado(x0, y0, xf, h):\n",
    "    \"\"\"\n",
    "    x0, y0: Condiciones iniciales\n",
    "    xf: Valor final de x\n",
    "    h: Tamaño del paso\n",
    "    Retorna listas con valores de x y y\n",
    "    \"\"\"\n",
    "    x_values = [x0]\n",
    "    y_values = [y0]\n",
    "    x = x0\n",
    "    y = y0\n",
    "\n",
    "    while x < xf:\n",
    "        # Predicción (Euler)\n",
    "        y_pred = y + h * f(x, y)\n",
    "        x_next = x + h\n",
    "        # Corrección (promedio de pendientes)\n",
    "        y = y + (h / 2) * (f(x, y) + f(x_next, y_pred))\n",
    "        x = x_next\n",
    "        x_values.append(x)\n",
    "        y_values.append(y)\n",
    "\n",
    "    return x_values, y_values\n",
    "\n",
    "\n",
    "x0 = 0\n",
    "y0 = 1\n",
    "xf = 1\n",
    "h = 0.1\n",
    "x_euler_mej, y_euler_mej = euler_mejorado(x0, y0, xf, h)\n",
    "print(f\"Solución de Euler Mejorado: y({xf}) = {y_euler_mej[-1]:.4f}\")\n",
    "plt.plot(x_euler_mej, y_euler_mej, marker='o', label=\"Método de Euler Mejorado\")\n",
    "plt.title(\"Solución de EDO usando el Método de Euler Mejorado\")\n",
    "plt.xlabel(\"x\")\n",
    "plt.ylabel(\"y\")\n",
    "plt.grid(True)\n",
    "plt.legend()\n",
    "plt.show()"
   ],
   "id": "c283803095e7f019",
   "outputs": [
    {
     "name": "stdout",
     "output_type": "stream",
     "text": [
      "Solución de Euler Mejorado: y(1) = 0.2997\n"
     ]
    },
    {
     "data": {
      "text/plain": [
       "<Figure size 640x480 with 1 Axes>"
      ],
      "image/png": "[encoded data removed]"
     },
     "metadata": {},
     "output_type": "display_data"
    }
   ],
   "execution_count": 7
  },
  {
   "metadata": {},
   "cell_type": "markdown",
   "source": "# Metodo de Taylor de mayor orden",
   "id": "66cee3f2f8c601ac"
  },
  {
   "metadata": {
    "ExecuteTime": {
     "end_time": "2025-07-20T20:51:20.490403Z",
     "start_time": "2025-07-20T20:51:20.358131Z"
    }
   },
   "cell_type": "code",
   "source": [
    "# Metodo de Taylor de orden 3\n",
    "def taylor_method(x0, y0, xf, h):\n",
    "    \"\"\"\n",
    "    x0, y0: Condiciones iniciales\n",
    "    xf: Valor final de x\n",
    "    h: Tamaño del paso\n",
    "    Retorna listas con valores de x y y\n",
    "    \"\"\"\n",
    "    x_values = [x0]\n",
    "    y_values = [y0]\n",
    "    x = x0\n",
    "    y = y0\n",
    "\n",
    "    while x < xf:\n",
    "        # Serie de Taylor: y(n+1) = y(n) + h*f + (h^2/2)*f' + (h^3/6)*f''\n",
    "        y = (y + h * f(x, y) + (h**2 / 2) * f_prime(x, y) +\n",
    "             (h**3 / 6) * f_double_prime(x, y))\n",
    "        x = x + h\n",
    "        x_values.append(x)\n",
    "        y_values.append(y)\n",
    "\n",
    "    return x_values, y_values\n",
    "\n",
    "x0 = 0\n",
    "y0 = 1\n",
    "xf = 1\n",
    "h = 0.1\n",
    "x_taylor, y_taylor = taylor_method(x0, y0, xf, h)\n",
    "print(f\"Solución de Taylor: y({xf}) = {y_taylor[-1]:.4f}\")\n",
    "plt.plot(x_taylor, y_taylor, marker='o', label=\"Método Taylor de Tercer Orden\")\n",
    "plt.title(\"Solución de EDO usando el Método de Taylor de Tercer Orden\")\n",
    "plt.xlabel(\"x\")\n",
    "plt.ylabel(\"y\")\n",
    "plt.grid(True)\n",
    "plt.legend()\n",
    "plt.show()"
   ],
   "id": "9317648b68f74a9b",
   "outputs": [
    {
     "name": "stdout",
     "output_type": "stream",
     "text": [
      "Solución de Taylor: y(1) = 0.2970\n"
     ]
    },
    {
     "data": {
      "text/plain": [
       "<Figure size 640x480 with 1 Axes>"
      ],
      "image/png": "[encoded data removed]"
     },
     "metadata": {},
     "output_type": "display_data"
    }
   ],
   "execution_count": 8
  },
  {
   "metadata": {},
   "cell_type": "markdown",
   "source": "# Método de Runge Kutta",
   "id": "ded64f1baaac6ca0"
  },
  {
   "metadata": {
    "ExecuteTime": {
     "end_time": "2025-07-20T20:53:01.041511Z",
     "start_time": "2025-07-20T20:53:00.960489Z"
    }
   },
   "cell_type": "code",
   "source": [
    "# Método de Runge-Kutta de orden 4\n",
    "def runge_kutta_4(x0, y0, xf, h):\n",
    "    \"\"\"\n",
    "    x0, y0: Condiciones iniciales\n",
    "    xf: Valor final de x\n",
    "    h: Tamaño del paso\n",
    "    Retorna listas con valores de x y y\n",
    "    \"\"\"\n",
    "    x_values = [x0]\n",
    "    y_values = [y0]\n",
    "    x = x0\n",
    "    y = y0\n",
    "\n",
    "    while x < xf:\n",
    "        k1 = f(x, y)\n",
    "        k2 = f(x + h/2, y + (h/2) * k1)\n",
    "        k3 = f(x + h/2, y + (h/2) * k2)\n",
    "        k4 = f(x + h, y + h * k3)\n",
    "\n",
    "        y = y + (h / 6) * (k1 + 2*k2 + 2*k3 + k4)\n",
    "        x = x + h\n",
    "        x_values.append(x)\n",
    "        y_values.append(y)\n",
    "\n",
    "    return x_values, y_values\n",
    "\n",
    "x0 = 0\n",
    "y0 = 1\n",
    "xf = 1\n",
    "h = 0.1\n",
    "x_rk4, y_rk4 = runge_kutta_4(x0, y0, xf, h)\n",
    "print(f\"Solución de Taylor: y({xf}) = {y_rk4[-1]:.4f}\")\n",
    "plt.plot(x_rk4, y_rk4, marker='o', label=\"Método Runge-Kutta de Orden 4\")\n",
    "plt.title(\"Solución de EDO usando el Método de Runge-Kutta de Orden 4\")\n",
    "plt.xlabel(\"x\")\n",
    "plt.ylabel(\"y\")\n",
    "plt.grid(True)\n",
    "plt.legend()\n",
    "plt.show()"
   ],
   "id": "16d98227894025fa",
   "outputs": [
    {
     "name": "stdout",
     "output_type": "stream",
     "text": [
      "Solución de Taylor: y(1) = 0.2982\n"
     ]
    },
    {
     "data": {
      "text/plain": [
       "<Figure size 640x480 with 1 Axes>"
      ],
      "image/png": "[encoded data removed]"
     },
     "metadata": {},
     "output_type": "display_data"
    }
   ],
   "execution_count": 11
  }
 ],
 "metadata": {
  "kernelspec": {
   "display_name": "Python 3",
   "language": "python",
   "name": "python3"
  },
  "language_info": {
   "codemirror_mode": {
    "name": "ipython",
    "version": 2
   },
   "file_extension": ".py",
   "mimetype": "text/x-python",
   "name": "python",
   "nbconvert_exporter": "python",
   "pygments_lexer": "ipython2",
   "version": "2.7.6"
  }
 },
 "nbformat": 4,
 "nbformat_minor": 5
}
